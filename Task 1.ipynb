{
 "cells": [
  {
   "cell_type": "code",
   "execution_count": 1,
   "id": "5c4d4c68-1be4-4fd4-8e6b-d37559858993",
   "metadata": {},
   "outputs": [
    {
     "name": "stdout",
     "output_type": "stream",
     "text": [
      "List Operations:\n",
      "Initial List: [10, 20, 30, 40, 50]\n",
      "After Append: [10, 20, 30, 40, 50, 60]\n",
      "After Remove: [10, 30, 40, 50, 60]\n",
      "After Modification: [15, 30, 40, 50, 60]\n"
     ]
    }
   ],
   "source": [
    "# List Operations\n",
    "print(\"List Operations:\")\n",
    "data_list = [10, 20, 30, 40, 50]  # Example dataset (e.g., some numeric observations)\n",
    "print(\"Initial List:\", data_list)\n",
    "\n",
    "# Add elements\n",
    "data_list.append(60)  # Adding an element\n",
    "print(\"After Append:\", data_list)\n",
    "\n",
    "# Remove elements\n",
    "data_list.remove(20)  # Removing a specific element\n",
    "print(\"After Remove:\", data_list)\n",
    "\n",
    "# Modify elements\n",
    "data_list[0] = 15  # Updating the first element\n",
    "print(\"After Modification:\", data_list)"
   ]
  },
  {
   "cell_type": "code",
   "execution_count": 3,
   "id": "2ec7f50c-ac58-4bfd-9b69-694a5e4499d0",
   "metadata": {},
   "outputs": [
    {
     "name": "stdout",
     "output_type": "stream",
     "text": [
      "Dictionary Operations:\n",
      "Initial Dictionary: {'Name': 'Sudharsan', 'Age': 19, 'location': 'Chennai'}\n",
      "After Adding Key-Value Pair: {'Name': 'Sudharsan', 'Age': 19, 'location': 'Chennai', 'Date of Birth': '27-10-2004'}\n",
      "After Removing Key: {'Name': 'Sudharsan', 'Age': 19, 'Date of Birth': '27-10-2004'}\n",
      "After Modification: {'Name': 'Sudharsan', 'Age': 20, 'Date of Birth': '27-10-2004'}\n"
     ]
    }
   ],
   "source": [
    "# Dictionary Operations\n",
    "print(\"Dictionary Operations:\")\n",
    "data_dict = {'Name': 'Sudharsan', 'Age': 19, 'location': 'Chennai'}  # Example dataset (e.g., feature-value pairs)\n",
    "print(\"Initial Dictionary:\", data_dict)\n",
    "\n",
    "# Add a key-value pair\n",
    "data_dict['Date of Birth'] = '27-10-2004'\n",
    "print(\"After Adding Key-Value Pair:\", data_dict)\n",
    "\n",
    "# Remove a key-value pair\n",
    "data_dict.pop('location')  # Removing key 'location'\n",
    "print(\"After Removing Key:\", data_dict)\n",
    "\n",
    "# Modify a value\n",
    "data_dict['Age'] = 20  # Updating the value for key 'Age'\n",
    "print(\"After Modification:\", data_dict)"
   ]
  },
  {
   "cell_type": "code",
   "execution_count": 5,
   "id": "d244a23c-a2ad-4e38-8020-506163cd9c3f",
   "metadata": {},
   "outputs": [
    {
     "name": "stdout",
     "output_type": "stream",
     "text": [
      "Set Operations:\n",
      "Initial Set: {1, 2, 3, 4, 5}\n",
      "After Adding Element: {1, 2, 3, 4, 5, 6}\n",
      "After Removing Element: {1, 2, 4, 5, 6}\n",
      "updated set: {2, 4, 5, 6, 20}\n"
     ]
    }
   ],
   "source": [
    "# Set Operations\n",
    "print(\"Set Operations:\")\n",
    "data_set = {1, 2, 3, 4, 5}  # Example dataset (e.g., unique values from a column)\n",
    "print(\"Initial Set:\", data_set)\n",
    "\n",
    "# Add an element\n",
    "data_set.add(6)  # Adding an element\n",
    "print(\"After Adding Element:\", data_set)\n",
    "\n",
    "# Remove an element\n",
    "data_set.remove(3)  # Removing element 3\n",
    "print(\"After Removing Element:\", data_set)\n",
    "\n",
    "#modifying the set\n",
    "data_set.discard(1)\n",
    "data_set.add(20)\n",
    "print(\"updated set:\",data_set)"
   ]
  },
  {
   "cell_type": "code",
   "execution_count": null,
   "id": "7053d7da-dfc3-4a7f-8931-b67098a1ff2e",
   "metadata": {},
   "outputs": [],
   "source": []
  }
 ],
 "metadata": {
  "kernelspec": {
   "display_name": "Python 3 (ipykernel)",
   "language": "python",
   "name": "python3"
  },
  "language_info": {
   "codemirror_mode": {
    "name": "ipython",
    "version": 3
   },
   "file_extension": ".py",
   "mimetype": "text/x-python",
   "name": "python",
   "nbconvert_exporter": "python",
   "pygments_lexer": "ipython3",
   "version": "3.12.4"
  }
 },
 "nbformat": 4,
 "nbformat_minor": 5
}
